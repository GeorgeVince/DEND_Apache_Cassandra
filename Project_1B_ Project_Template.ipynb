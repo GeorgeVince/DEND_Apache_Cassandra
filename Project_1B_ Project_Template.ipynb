{
 "cells": [
  {
   "cell_type": "markdown",
   "metadata": {},
   "source": [
    "# Part I. ETL Pipeline for Pre-Processing the Files"
   ]
  },
  {
   "cell_type": "code",
   "execution_count": 59,
   "metadata": {},
   "outputs": [],
   "source": [
    "# Import Python packages \n",
    "import pandas as pd\n",
    "import cassandra\n",
    "import os\n",
    "import glob\n",
    "import csv"
   ]
  },
  {
   "cell_type": "markdown",
   "metadata": {},
   "source": [
    "#### Creating list of filepaths to process original event csv data files"
   ]
  },
  {
   "cell_type": "code",
   "execution_count": 60,
   "metadata": {},
   "outputs": [],
   "source": [
    "# Get your current folder and subfolder event data\n",
    "filepath = os.getcwd() + '/event_data'\n",
    "\n",
    "#Find all csv files in specified file path\n",
    "file_path_list = [f for f in glob.glob(filepath + \"/*.csv\", recursive=True)]\n"
   ]
  },
  {
   "cell_type": "markdown",
   "metadata": {},
   "source": [
    "#### Processing the files to create the data file csv that will be used for Apache Casssandra tables"
   ]
  },
  {
   "cell_type": "code",
   "execution_count": 61,
   "metadata": {},
   "outputs": [],
   "source": [
    "# initiating an empty list of rows that will be generated from each file\n",
    "full_data_rows_list = [] \n",
    "    \n",
    "# for every filepath in the file path list \n",
    "for f in file_path_list:\n",
    "\n",
    "# reading csv file \n",
    "    with open(f, 'r', encoding = 'utf8', newline='') as csvfile: \n",
    "        # creating a csv reader object \n",
    "        csvreader = csv.reader(csvfile) \n",
    "        next(csvreader)\n",
    "        \n",
    " # extracting each data row one by one and append it        \n",
    "        for line in csvreader:\n",
    "            #print(line)\n",
    "            full_data_rows_list.append(line) \n",
    "            \n",
    "#print(len(full_data_rows_list))\n",
    "#print(full_data_rows_list)\n",
    "\n",
    "# creating a smaller event data csv file called event_datafile_full csv that will be used to insert data into the \\\n",
    "# Apache Cassandra tables\n",
    "\n",
    "csv.register_dialect('myDialect', quoting=csv.QUOTE_ALL, skipinitialspace=True)\n",
    "\n",
    "with open('event_datafile_new.csv', 'w', encoding = 'utf8', newline='') as f:\n",
    "    writer = csv.writer(f, dialect='myDialect')\n",
    "    writer.writerow(['artist','firstName','gender','itemInSession','lastName','length',\\\n",
    "                'level','location','sessionId','song','userId'])\n",
    "    for row in full_data_rows_list:\n",
    "        if (row[0] == ''):\n",
    "            continue\n",
    "        writer.writerow((row[0], row[2], row[3], row[4], row[5], row[6], row[7], row[8], row[12], row[13], row[16]))\n"
   ]
  },
  {
   "cell_type": "code",
   "execution_count": 62,
   "metadata": {},
   "outputs": [
    {
     "name": "stdout",
     "output_type": "stream",
     "text": [
      "6821\n"
     ]
    }
   ],
   "source": [
    "# check the number of rows in your csv file\n",
    "with open('event_datafile_new.csv', 'r', encoding = 'utf8') as f:\n",
    "    print(sum(1 for line in f))"
   ]
  },
  {
   "cell_type": "markdown",
   "metadata": {},
   "source": [
    "### Creating a Cluster"
   ]
  },
  {
   "cell_type": "code",
   "execution_count": 78,
   "metadata": {},
   "outputs": [],
   "source": [
    "# This should make a connection to a Cassandra instance your local machine \n",
    "# (127.0.0.1)\n",
    "\n",
    "from cassandra.cluster import Cluster\n",
    "try: \n",
    "    cluster = Cluster(['127.0.0.1']) #If you have a locally installed Apache Cassandra instance\n",
    "    session = cluster.connect()\n",
    "except Exception as e:\n",
    "    print(e)\n",
    "# To establish connection and begin executing queries, need a session\n",
    "session = cluster.connect()"
   ]
  },
  {
   "cell_type": "markdown",
   "metadata": {},
   "source": [
    "### Create Keyspace"
   ]
  },
  {
   "cell_type": "code",
   "execution_count": 79,
   "metadata": {},
   "outputs": [],
   "source": [
    "try:\n",
    "    session.execute(\"\"\"\n",
    "    CREATE KEYSPACE IF NOT EXISTS udacity \n",
    "    WITH REPLICATION = \n",
    "    { 'class' : 'SimpleStrategy', 'replication_factor' : 1 }\"\"\"\n",
    ")\n",
    "\n",
    "except Exception as e:\n",
    "    print(e)"
   ]
  },
  {
   "cell_type": "markdown",
   "metadata": {},
   "source": [
    "### Set Keyspace"
   ]
  },
  {
   "cell_type": "code",
   "execution_count": 80,
   "metadata": {},
   "outputs": [],
   "source": [
    "try:\n",
    "    session.set_keyspace('udacity')\n",
    "except Exception as e:\n",
    "    print(e)\n"
   ]
  },
  {
   "cell_type": "markdown",
   "metadata": {},
   "source": [
    "### Create DB and Query tables"
   ]
  },
  {
   "cell_type": "markdown",
   "metadata": {},
   "source": [
    "#### First Query\n",
    "*Artist, song title and song's length in the music app history that was heard during sessionId = 338, and itemInSession = 4*\n",
    "\n",
    "In Apache Cassandra primary keys are used to partion data in the table.  Our data will be partitioned on *\"session_id\"* and *\"item_in_session\"*, meaning that each row that corrospondes to these values will be unique in the table. A compound primary key is required here, because there may be multiple *item_in_sessions* per *session_id*.\n",
    "\n",
    "We are only adding in the necessary columns to the database, therefore we will need our primary keys, followed by the features we wish to extract, *artist_name,* *song_name,* *song_lenth.*"
   ]
  },
  {
   "cell_type": "code",
   "execution_count": 81,
   "metadata": {},
   "outputs": [],
   "source": [
    "##Artist, song title and song's length in the music app history that was heard during \\\n",
    "## sessionId = 338, and itemInSession = 4\n",
    "\n",
    "query = \"CREATE TABLE IF NOT EXISTS artist_song_length_by_session_item\"\n",
    "query = query + \"\"\"(session_id int, \n",
    "                    item_in_session int,\n",
    "                    artist_name text, \n",
    "                    song_name text, \n",
    "                    song_length float, \n",
    "                    PRIMARY KEY (session_id, item_in_session))\"\"\"\n",
    "\n",
    "try:\n",
    "    session.execute(query)\n",
    "except Exception as e:\n",
    "    print(e)"
   ]
  },
  {
   "cell_type": "code",
   "execution_count": 82,
   "metadata": {},
   "outputs": [],
   "source": [
    "file = 'event_datafile_new.csv'\n",
    "\n",
    "df = pd.read_csv(file)\n",
    "\n",
    "#Loop through each row in dataframe and insert into DB\n",
    "for i, row in df.iterrows():\n",
    "    query = \"\"\"INSERT INTO artist_song_length_by_session_item (\n",
    "                session_id, \n",
    "                item_in_session,\n",
    "                artist_name, \n",
    "                song_name, \n",
    "                song_length)\n",
    "                VALUES (%s, %s, %s, %s, %s)\"\"\"\n",
    "    \n",
    "    session.execute(query, (row['sessionId'], row['itemInSession'], row['artist'], row['song'], row['length']))\n"
   ]
  },
  {
   "cell_type": "markdown",
   "metadata": {},
   "source": [
    "#### Verifying data from query"
   ]
  },
  {
   "cell_type": "code",
   "execution_count": 84,
   "metadata": {
    "scrolled": true
   },
   "outputs": [
    {
     "name": "stdout",
     "output_type": "stream",
     "text": [
      "Artist Name: Faithless, Song Title: 495.0, Song Length: Music Matters (Mark Knight Dub)\n"
     ]
    }
   ],
   "source": [
    "query = \"\"\"SELECT artist_name, \n",
    "                  song_name, \n",
    "                  song_length \n",
    "                  FROM artist_song_length_by_session_item \n",
    "                  WHERE session_id = 338 AND item_in_session = 4\"\"\"\n",
    "\n",
    "try:\n",
    "    rows = session.execute(query)\n",
    "except Exception as e:\n",
    "    print(e)\n",
    "    \n",
    "    \n",
    "for row in rows:\n",
    "    print (\"Artist Name: {}, Song Title: {}, Song Length: {}\".format(row.artist_name, \n",
    "                                                                     round(row.song_length,0), \n",
    "                                                                     row.song_name))"
   ]
  },
  {
   "cell_type": "markdown",
   "metadata": {},
   "source": [
    "#### Second Query\n",
    "*Name of artist, song (sorted by itemInSession) and user (first and last name) for userid = 10, sessionid = 182*\n",
    "\n",
    "- Data has been paritioned on *\"user_id\"*, *\"session_id\"* and finally *\"item_in_session\"*\n",
    "- Only the necessary features have been included in the creation of the table columns.\n",
    "- A Clustering order has been specified on the *session_id* and *item_in_session*, meaning first of all items in that current partition will be sorted by *session_id* and secondly by the *item_in_session*."
   ]
  },
  {
   "cell_type": "code",
   "execution_count": 85,
   "metadata": {},
   "outputs": [],
   "source": [
    "## Name of artist, song (sorted by itemInSession) and user (first and last name)\\\n",
    "## for userid = 10, sessionid = 182\n",
    "\n",
    "#First we create the database to model the query\n",
    "query = \"\"\"CREATE TABLE IF NOT EXISTS artist_song_user_by_user_id_session_id (\n",
    "            user_id int,\n",
    "            session_id int, \n",
    "            item_in_session int,\n",
    "            artist_name text, \n",
    "            song_name text, \n",
    "            user_fname text, \n",
    "            user_lname text, \n",
    "            PRIMARY KEY (user_id, session_id, item_in_session)\n",
    "            ) \n",
    "            WITH CLUSTERING ORDER BY (session_id ASC, item_in_session ASC)\"\"\"\n",
    "                    \n",
    "try: \n",
    "    session.execute(query)\n",
    "except Exception as e:\n",
    "    print (e)\n"
   ]
  },
  {
   "cell_type": "code",
   "execution_count": 86,
   "metadata": {},
   "outputs": [],
   "source": [
    "#Next we open the CSV file up and insert in new database\n",
    "file = 'event_datafile_new.csv'\n",
    "df = pd.read_csv(file)\n",
    "\n",
    "for i, row in df.iterrows():\n",
    "    query = \"\"\"INSERT INTO artist_song_user_by_user_id_session_id (\n",
    "                user_id,\n",
    "                session_id, \n",
    "                item_in_session, \n",
    "                artist_name, \n",
    "                song_name, \n",
    "                user_fname, \n",
    "                user_lname \n",
    "                ) \n",
    "                VALUES (%s,%s,%s,%s,%s,%s,%s)\"\"\"\n",
    "    \n",
    "    session.execute(query, (row['userId'], row['sessionId'], row['itemInSession'], row['artist'], row['song'], row['firstName'], row['lastName']))"
   ]
  },
  {
   "cell_type": "code",
   "execution_count": 87,
   "metadata": {},
   "outputs": [
    {
     "name": "stdout",
     "output_type": "stream",
     "text": [
      "SESSION_ID: 182, SESSION_ITEM: 0, USER: Sylvie Cruz, ARTIST: Down To The Bone, SONG: Keep On Keepin' On\n",
      "SESSION_ID: 182, SESSION_ITEM: 1, USER: Sylvie Cruz, ARTIST: Three Drives, SONG: Greece 2000\n",
      "SESSION_ID: 182, SESSION_ITEM: 2, USER: Sylvie Cruz, ARTIST: Sebastien Tellier, SONG: Kilometer\n",
      "SESSION_ID: 182, SESSION_ITEM: 3, USER: Sylvie Cruz, ARTIST: Lonnie Gordon, SONG: Catch You Baby (Steve Pitron & Max Sanna Radio Edit)\n"
     ]
    }
   ],
   "source": [
    "#Next query the DB\n",
    "query = \"\"\"SELECT session_id, \n",
    "                  item_in_session,\n",
    "                  artist_name,\n",
    "                  song_name,\n",
    "                  user_fname, \n",
    "                  user_lname\n",
    "                  FROM artist_song_user_by_user_id_session_id \n",
    "                  WHERE user_id = 10 AND session_id = 182\"\"\"\n",
    "\n",
    "try:\n",
    "    rows = session.execute(query)\n",
    "except Exception as e:\n",
    "    print(e)\n",
    "\n",
    "for row in rows:\n",
    "    print(\"SESSION_ID: {}, SESSION_ITEM: {}, USER: {}, ARTIST: {}, SONG: {}\".format(row.session_id, \n",
    "                                                                                    row.item_in_session,\n",
    "                                                                                    row.user_fname+\" \"+row.user_lname, \n",
    "                                                                                    row.artist_name, \n",
    "                                                                                    row.song_name))"
   ]
  },
  {
   "cell_type": "markdown",
   "metadata": {},
   "source": [
    "### Query 3\n",
    "*Every user name (first and last) in my music app history who listened to the song 'All Hands Against His Own'*\n",
    "\n",
    "- Data has been paritioned on *\"user_id\"*, *\"session_id\"* and finally *\"item_in_session\"*\n",
    "- Only the necessary features have been included in the creation of the table columns.\n",
    "- In order to avoid an \"Allow Filtering\" error, data is partitioned firstly on *song_id* (as this is specified in the where clause) then secondly on *user_id* "
   ]
  },
  {
   "cell_type": "code",
   "execution_count": 88,
   "metadata": {},
   "outputs": [],
   "source": [
    "#Every user name (first and last) in my music app history who listened to the song 'All Hands Against His Own'\n",
    "\n",
    "#First create the query\n",
    "query = \"\"\"CREATE TABLE IF NOT EXISTS user_by_song (\n",
    "            song text, \n",
    "            user_id int, \n",
    "            user_fname text, \n",
    "            user_lname text,\n",
    "            PRIMARY KEY(song, user_id))\"\"\"\n",
    "\n",
    "try:\n",
    "    session.execute(query)\n",
    "except Exception as e:\n",
    "    print (e)"
   ]
  },
  {
   "cell_type": "code",
   "execution_count": 73,
   "metadata": {},
   "outputs": [],
   "source": [
    "# Using dataframe insert into DB\n",
    "file = 'event_datafile_new.csv'\n",
    "df = pd.read_csv(file)\n",
    "\n",
    "for i, row in df.iterrows():\n",
    "    query = \"\"\"INSERT INTO user_by_song (\n",
    "                song, \n",
    "                user_id,\n",
    "                user_fname, \n",
    "                user_lname) \n",
    "                VALUES (%s, %s, %s, %s)\"\"\"\n",
    "    \n",
    "    session.execute(query, ( row['song'], row['userId'], row['firstName'], row['lastName']))\n",
    "    "
   ]
  },
  {
   "cell_type": "code",
   "execution_count": 74,
   "metadata": {},
   "outputs": [
    {
     "name": "stdout",
     "output_type": "stream",
     "text": [
      "User: Jacqueline Lynch\n",
      "User: Tegan Levine\n",
      "User: Sara Johnson\n"
     ]
    }
   ],
   "source": [
    "#Select rows based upon query\n",
    "query = \"SELECT user_fname, user_lname from user_by_song WHERE song = 'All Hands Against His Own'\"\n",
    "\n",
    "try:\n",
    "    rows = session.execute(query)\n",
    "except Exception as e:\n",
    "    print (e)\n",
    "\n",
    "for row in rows:\n",
    "    print(\"User: {}\".format(row.user_fname + \" \" + row.user_lname))\n",
    "    "
   ]
  },
  {
   "cell_type": "markdown",
   "metadata": {},
   "source": [
    "### Drop the tables before closing out the sessions"
   ]
  },
  {
   "cell_type": "code",
   "execution_count": 75,
   "metadata": {},
   "outputs": [],
   "source": [
    "#Drop each of the tables\n",
    "tables = ['artist_song_length_by_session_item', 'artist_song_user_by_user_id_session_id', 'user_by_song']\n",
    "query = \"drop table if exists {}\"\n",
    "for table in tables:\n",
    "    try:\n",
    "        rows = session.execute(query.format(table))\n",
    "    except Exception as e:\n",
    "        print(e)    "
   ]
  },
  {
   "cell_type": "markdown",
   "metadata": {},
   "source": [
    "### Close the session and cluster connection¶"
   ]
  },
  {
   "cell_type": "code",
   "execution_count": 76,
   "metadata": {},
   "outputs": [],
   "source": [
    "session.shutdown()\n",
    "cluster.shutdown()"
   ]
  }
 ],
 "metadata": {
  "kernelspec": {
   "display_name": "Python 3",
   "language": "python",
   "name": "python3"
  },
  "language_info": {
   "codemirror_mode": {
    "name": "ipython",
    "version": 3
   },
   "file_extension": ".py",
   "mimetype": "text/x-python",
   "name": "python",
   "nbconvert_exporter": "python",
   "pygments_lexer": "ipython3",
   "version": "3.6.3"
  }
 },
 "nbformat": 4,
 "nbformat_minor": 2
}
